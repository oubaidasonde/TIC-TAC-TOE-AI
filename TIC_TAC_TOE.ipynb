{
  "nbformat": 4,
  "nbformat_minor": 0,
  "metadata": {
    "colab": {
      "provenance": []
    },
    "kernelspec": {
      "name": "python3",
      "display_name": "Python 3"
    },
    "language_info": {
      "name": "python"
    }
  },
  "cells": [
    {
      "cell_type": "code",
      "execution_count": 1,
      "metadata": {
        "id": "_UZes5E5QG-i"
      },
      "outputs": [],
      "source": [
        "import copy\n",
        "\n",
        "# Définition des symboles pour les joueurs\n",
        "PLAYER_X = 'X'\n",
        "PLAYER_O = 'O'\n",
        "EMPTY = ' '"
      ]
    },
    {
      "cell_type": "code",
      "source": [
        "def print_board(board):\n",
        "    for row in board:\n",
        "        print(\" | \".join(row))\n",
        "        print(\"__\" * 5)"
      ],
      "metadata": {
        "id": "HcovwerkVJz6"
      },
      "execution_count": 2,
      "outputs": []
    },
    {
      "cell_type": "code",
      "source": [
        "def is_winner(board, player):\n",
        "    # Vérifier les lignes, colonnes et diagonales\n",
        "    for i in range(3):\n",
        "        if all(board[i][j] == player for j in range(3)) or \\\n",
        "           all(board[j][i] == player for j in range(3)):\n",
        "            return True\n",
        "    if all(board[i][i] == player for i in range(3)) or \\\n",
        "       all(board[i][2 - i] == player for i in range(3)):\n",
        "        return True\n",
        "    return False"
      ],
      "metadata": {
        "id": "SEv5faRDVLOH"
      },
      "execution_count": 3,
      "outputs": []
    },
    {
      "cell_type": "code",
      "source": [
        "def is_board_full(board):\n",
        "    return all(board[i][j] != EMPTY for i in range(3) for j in range(3))"
      ],
      "metadata": {
        "id": "42bQ-_QXVLEo"
      },
      "execution_count": 4,
      "outputs": []
    },
    {
      "cell_type": "code",
      "source": [
        "def get_empty_cells(board):\n",
        "    return [(i, j) for i in range(3) for j in range(3) if board[i][j] == EMPTY]"
      ],
      "metadata": {
        "id": "vEi7mj8oVLBT"
      },
      "execution_count": 5,
      "outputs": []
    },
    {
      "cell_type": "code",
      "source": [
        "def minimax(board, depth, maximizing_player):\n",
        "    if is_winner(board, PLAYER_X):\n",
        "        return -1\n",
        "    elif is_winner(board, PLAYER_O):\n",
        "        return 1\n",
        "    elif is_board_full(board):\n",
        "        return 0\n",
        "\n",
        "    if maximizing_player:\n",
        "        max_eval = float('-inf')\n",
        "        for i, j in get_empty_cells(board):\n",
        "            board[i][j] = PLAYER_O\n",
        "            eval = minimax(board, depth + 1, False)\n",
        "            board[i][j] = EMPTY\n",
        "            max_eval = max(max_eval, eval)\n",
        "        return max_eval\n",
        "    else:\n",
        "        min_eval = float('inf')\n",
        "        for i, j in get_empty_cells(board):\n",
        "            board[i][j] = PLAYER_X\n",
        "            eval = minimax(board, depth + 1, True)\n",
        "            board[i][j] = EMPTY\n",
        "            min_eval = min(min_eval, eval)\n",
        "        return min_eval"
      ],
      "metadata": {
        "id": "dmQ31Mi4VK-f"
      },
      "execution_count": 6,
      "outputs": []
    },
    {
      "cell_type": "code",
      "source": [
        "def find_best_move(board):\n",
        "    best_val = float('-inf')\n",
        "    best_move = (-1, -1)\n",
        "\n",
        "    for i, j in get_empty_cells(board):\n",
        "        board[i][j] = PLAYER_O\n",
        "        move_val = minimax(board, 0, False)\n",
        "        board[i][j] = EMPTY\n",
        "\n",
        "        if move_val > best_val:\n",
        "            best_move = (i, j)\n",
        "            best_val = move_val\n",
        "\n",
        "    return best_move\n"
      ],
      "metadata": {
        "id": "XN995lQqVK7a"
      },
      "execution_count": 7,
      "outputs": []
    },
    {
      "cell_type": "code",
      "source": [
        "def play_tic_tac_toe():\n",
        "    # Initialiser le plateau\n",
        "    board = [[EMPTY] * 3 for _ in range(3)]\n",
        "\n",
        "    while True:\n",
        "        print_board(board)\n",
        "\n",
        "        # Tour du joueur humain\n",
        "        row = int(input(\"Enter row (0, 1, or 2): \"))\n",
        "        col = int(input(\"Enter column (0, 1, or 2): \"))\n",
        "\n",
        "        if board[row][col] == EMPTY:\n",
        "            board[row][col] = PLAYER_X\n",
        "        else:\n",
        "            print(\"Cell already occupied. Try again.\")\n",
        "            continue\n",
        "\n",
        "        if is_winner(board, PLAYER_X):\n",
        "            print(\"You win!\")\n",
        "            break\n",
        "        elif is_board_full(board):\n",
        "            print(\"It's a tie!\")\n",
        "            break\n",
        "\n",
        "        # Tour de l'IA\n",
        "        print(\"AI's turn:\")\n",
        "        print(\"__\" * 5)\n",
        "        best_move = find_best_move(board)\n",
        "        board[best_move[0]][best_move[1]] = PLAYER_O\n",
        "\n",
        "        if is_winner(board, PLAYER_O):\n",
        "            print_board(board)\n",
        "            print(\"AI wins!\")\n",
        "            break\n",
        "        elif is_board_full(board):\n",
        "            print_board(board)\n",
        "            print(\"It's a tie!\")\n",
        "            break\n",
        "\n",
        "if __name__ == \"__main__\":\n",
        "    play_tic_tac_toe()\n"
      ],
      "metadata": {
        "colab": {
          "base_uri": "https://localhost:8080/"
        },
        "id": "y-u4FnOTVK4A",
        "outputId": "ff89b98e-cc4f-4d4d-89f3-c3dc6ec8cba9"
      },
      "execution_count": 16,
      "outputs": [
        {
          "output_type": "stream",
          "name": "stdout",
          "text": [
            "  |   |  \n",
            "__________\n",
            "  |   |  \n",
            "__________\n",
            "  |   |  \n",
            "__________\n",
            "Enter row (0, 1, or 2): 1\n",
            "Enter column (0, 1, or 2): 2\n",
            "AI's turn:\n",
            "__________\n",
            "  |   | O\n",
            "__________\n",
            "  |   | X\n",
            "__________\n",
            "  |   |  \n",
            "__________\n",
            "Enter row (0, 1, or 2): 0\n",
            "Enter column (0, 1, or 2): 0\n",
            "AI's turn:\n",
            "__________\n",
            "X |   | O\n",
            "__________\n",
            "O |   | X\n",
            "__________\n",
            "  |   |  \n",
            "__________\n",
            "Enter row (0, 1, or 2): 2\n",
            "Enter column (0, 1, or 2): 1\n",
            "AI's turn:\n",
            "__________\n",
            "X |   | O\n",
            "__________\n",
            "O | O | X\n",
            "__________\n",
            "  | X |  \n",
            "__________\n",
            "Enter row (0, 1, or 2): 0\n",
            "Enter column (0, 1, or 2): 1\n",
            "AI's turn:\n",
            "__________\n",
            "X | X | O\n",
            "__________\n",
            "O | O | X\n",
            "__________\n",
            "O | X |  \n",
            "__________\n",
            "AI wins!\n"
          ]
        }
      ]
    }
  ]
}